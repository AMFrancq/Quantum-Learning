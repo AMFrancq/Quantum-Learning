{
 "cells": [
  {
   "cell_type": "code",
   "execution_count": 49,
   "metadata": {},
   "outputs": [],
   "source": [
    "import numpy as np\n",
    "\n",
    "from qiskit import QuantumCircuit, transpile\n",
    "from qiskit_aer import AerSimulator\n",
    "from qiskit.visualization import plot_histogram, plot_state_city\n",
    "import qiskit.quantum_info as qi"
   ]
  },
  {
   "cell_type": "code",
   "execution_count": 50,
   "metadata": {},
   "outputs": [],
   "source": [
    "simulator = AerSimulator()"
   ]
  },
  {
   "cell_type": "code",
   "execution_count": 51,
   "metadata": {},
   "outputs": [
    {
     "data": {
      "text/html": [
       "<pre style=\"word-wrap: normal;white-space: pre;background: #fff0;line-height: 1.1;font-family: &quot;Courier New&quot;,Courier,monospace\">     ┌───┐     ┌─┐   \n",
       "q_0: ┤ H ├──■──┤M├───\n",
       "     └───┘┌─┴─┐└╥┘┌─┐\n",
       "q_1: ─────┤ X ├─╫─┤M├\n",
       "          └───┘ ║ └╥┘\n",
       "c: 2/═══════════╩══╩═\n",
       "                0  1 </pre>"
      ],
      "text/plain": [
       "     ┌───┐     ┌─┐   \n",
       "q_0: ┤ H ├──■──┤M├───\n",
       "     └───┘┌─┴─┐└╥┘┌─┐\n",
       "q_1: ─────┤ X ├─╫─┤M├\n",
       "          └───┘ ║ └╥┘\n",
       "c: 2/═══════════╩══╩═\n",
       "                0  1 "
      ]
     },
     "execution_count": 51,
     "metadata": {},
     "output_type": "execute_result"
    }
   ],
   "source": [
    "qc = QuantumCircuit(2, 2)\n",
    "qc.h(0)\n",
    "qc.cx(0, 1)\n",
    "qc.measure(range(2), range(2))\n",
    "qc.draw()"
   ]
  },
  {
   "cell_type": "code",
   "execution_count": 54,
   "metadata": {},
   "outputs": [
    {
     "data": {
      "image/png": "[encoded data removed]",
      "text/plain": [
       "<Figure size 640x480 with 1 Axes>"
      ]
     },
     "execution_count": 54,
     "metadata": {},
     "output_type": "execute_result"
    }
   ],
   "source": [
    "circ = transpile(qc, simulator)\n",
    "\n",
    "result = simulator.run(qc, shots=1024, memory=True).result()\n",
    "counts = result.get_counts(qc)\n",
    "plot_histogram(counts)"
   ]
  },
  {
   "cell_type": "code",
   "execution_count": 55,
   "metadata": {},
   "outputs": [
    {
     "name": "stdout",
     "output_type": "stream",
     "text": [
      "['00', '00', '00', '11', '11', '11', '00', '11', '11', '00', '00', '11', '11', '11', '00', '00', '11', '00', '11', '00', '00', '11', '00', '00', '11', '00', '11', '11', '00', '00', '11', '00', '11', '00', '00', '11', '11', '00', '11', '11', '11', '00', '11', '00', '00', '00', '00', '11', '11', '11', '00', '11', '11', '00', '00', '11', '11', '00', '00', '11', '11', '00', '11', '11', '00', '11', '11', '11', '11', '00', '11', '00', '11', '00', '00', '11', '11', '11', '11', '00', '11', '11', '11', '11', '00', '00', '11', '11', '11', '00', '00', '00', '00', '00', '11', '11', '00', '11', '00', '11', '11', '00', '00', '00', '11', '00', '11', '00', '11', '00', '00', '00', '11', '00', '00', '11', '11', '11', '11', '00', '11', '00', '11', '00', '00', '11', '00', '11', '00', '00', '11', '00', '00', '11', '11', '00', '11', '00', '00', '00', '11', '00', '11', '00', '11', '00', '00', '00', '11', '00', '00', '11', '11', '00', '00', '00', '11', '11', '11', '11', '00', '11', '11', '11', '11', '00', '00', '11', '00', '00', '11', '11', '11', '00', '11', '00', '11', '11', '00', '00', '00', '00', '11', '11', '00', '00', '11', '00', '00', '00', '11', '11', '11', '00', '00', '00', '00', '00', '11', '11', '11', '11', '11', '11', '00', '00', '11', '00', '11', '11', '00', '00', '11', '00', '00', '11', '00', '00', '00', '11', '11', '00', '00', '00', '00', '11', '00', '00', '11', '00', '00', '00', '00', '11', '00', '11', '11', '00', '00', '11', '00', '00', '00', '11', '11', '11', '11', '00', '11', '11', '00', '11', '00', '00', '00', '00', '00', '00', '11', '11', '11', '11', '11', '00', '00', '00', '11', '00', '00', '11', '11', '00', '00', '11', '00', '11', '00', '00', '11', '11', '00', '11', '00', '11', '00', '11', '00', '00', '11', '11', '11', '00', '00', '11', '11', '00', '00', '11', '00', '11', '00', '11', '11', '11', '00', '11', '00', '11', '11', '11', '11', '11', '00', '00', '00', '11', '00', '11', '00', '11', '00', '00', '11', '00', '00', '11', '00', '00', '00', '00', '11', '11', '00', '00', '00', '00', '00', '00', '11', '11', '11', '00', '00', '11', '00', '11', '11', '11', '00', '00', '00', '00', '11', '11', '00', '00', '11', '11', '00', '00', '00', '11', '11', '00', '11', '11', '00', '11', '00', '00', '00', '00', '00', '11', '00', '11', '00', '00', '00', '11', '11', '00', '00', '11', '11', '11', '00', '00', '00', '11', '11', '11', '11', '11', '00', '11', '00', '00', '11', '11', '11', '11', '11', '00', '11', '00', '00', '11', '11', '11', '00', '11', '00', '00', '11', '00', '11', '00', '11', '11', '00', '00', '11', '00', '11', '11', '00', '11', '11', '00', '00', '00', '11', '00', '11', '11', '00', '11', '11', '00', '11', '00', '00', '00', '00', '00', '00', '00', '00', '00', '00', '00', '11', '11', '00', '11', '00', '11', '11', '00', '11', '11', '00', '00', '11', '11', '00', '00', '11', '00', '11', '00', '00', '00', '00', '11', '11', '11', '11', '11', '00', '11', '00', '11', '11', '11', '00', '00', '00', '00', '11', '11', '00', '11', '00', '00', '00', '00', '11', '11', '00', '00', '11', '11', '11', '11', '00', '00', '11', '11', '11', '11', '11', '11', '11', '11', '00', '00', '00', '11', '00', '11', '00', '11', '00', '00', '11', '11', '00', '00', '00', '11', '11', '11', '11', '00', '00', '11', '00', '00', '00', '00', '11', '00', '11', '11', '00', '00', '11', '11', '00', '11', '00', '11', '11', '00', '11', '00', '11', '11', '11', '00', '11', '00', '00', '00', '00', '11', '11', '00', '11', '11', '00', '00', '11', '00', '00', '11', '11', '00', '11', '00', '11', '11', '00', '00', '11', '11', '00', '00', '11', '00', '11', '11', '11', '00', '11', '11', '11', '11', '00', '11', '00', '11', '00', '11', '11', '11', '00', '11', '00', '00', '11', '00', '11', '11', '11', '00', '00', '00', '11', '11', '00', '11', '00', '00', '00', '11', '11', '11', '11', '00', '00', '00', '11', '00', '11', '11', '11', '11', '00', '11', '11', '11', '00', '00', '11', '11', '00', '11', '11', '00', '00', '11', '11', '00', '00', '11', '00', '11', '11', '00', '11', '11', '00', '11', '00', '11', '00', '00', '00', '00', '11', '11', '00', '11', '00', '11', '00', '11', '00', '11', '00', '00', '11', '11', '00', '00', '00', '11', '00', '00', '11', '00', '11', '00', '11', '00', '11', '11', '11', '00', '11', '11', '00', '11', '00', '11', '00', '11', '00', '11', '11', '00', '00', '00', '00', '11', '00', '11', '11', '11', '00', '11', '11', '00', '11', '00', '00', '00', '00', '11', '11', '00', '00', '11', '11', '00', '11', '00', '00', '11', '00', '00', '11', '11', '00', '11', '11', '00', '00', '00', '11', '00', '11', '11', '00', '00', '11', '11', '00', '00', '00', '00', '11', '11', '00', '11', '11', '00', '11', '11', '00', '00', '00', '11', '11', '11', '00', '11', '11', '00', '11', '00', '11', '00', '11', '11', '00', '00', '00', '00', '00', '00', '00', '00', '11', '00', '11', '00', '11', '11', '00', '11', '00', '11', '00', '00', '00', '00', '00', '11', '00', '00', '00', '11', '00', '00', '00', '11', '00', '00', '00', '11', '00', '11', '00', '00', '00', '11', '00', '00', '11', '00', '00', '11', '00', '00', '11', '11', '00', '00', '00', '00', '00', '11', '00', '11', '00', '00', '11', '00', '11', '11', '11', '11', '11', '00', '11', '00', '00', '11', '11', '00', '11', '11', '11', '00', '00', '11', '00', '00', '11', '11', '00', '00', '00', '00', '11', '00', '11', '00', '11', '00', '00', '11', '11', '00', '00', '00', '11', '00', '11', '00', '11', '11', '00', '00', '11', '11', '11', '00', '00', '11', '11', '00', '00', '00', '11', '00', '11', '00', '00', '11', '00', '00', '00', '00', '00', '00', '11', '00', '00', '11', '00', '11', '00', '00', '00', '00', '00', '11', '11', '11', '00', '11', '11', '00', '00', '00', '11', '00', '00', '00', '11', '00', '11', '11', '11', '00', '11', '00', '11', '00', '00', '00', '00', '00', '11', '11', '11', '00', '11', '11', '11', '11', '00', '00', '11', '00', '11', '11', '00', '11', '11', '00', '00', '11', '11', '11', '00', '11', '11', '00', '11', '11', '00', '11', '00', '00', '00', '00', '11', '00', '11', '00', '11', '00', '00', '11', '11', '00', '00', '00', '11', '11', '00', '11', '11', '00', '00', '00', '00', '00', '11', '11', '11', '11', '11', '11', '11', '11', '00', '00']\n"
     ]
    }
   ],
   "source": [
    "memory = result.get_memory(qc)\n",
    "print(memory)"
   ]
  }
 ],
 "metadata": {
  "kernelspec": {
   "display_name": ".venv",
   "language": "python",
   "name": "python3"
  },
  "language_info": {
   "codemirror_mode": {
    "name": "ipython",
    "version": 3
   },
   "file_extension": ".py",
   "mimetype": "text/x-python",
   "name": "python",
   "nbconvert_exporter": "python",
   "pygments_lexer": "ipython3",
   "version": "3.10.12"
  }
 },
 "nbformat": 4,
 "nbformat_minor": 2
}
